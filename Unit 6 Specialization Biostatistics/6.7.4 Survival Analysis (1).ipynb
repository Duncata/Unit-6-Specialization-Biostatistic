{
 "cells": [
  {
   "cell_type": "code",
   "execution_count": 1,
   "metadata": {},
   "outputs": [],
   "source": [
    "import numpy as np\n",
    "import pandas as pd\n",
    "import matplotlib.pyplot as plt\n",
    "import seaborn as sns\n",
    "%matplotlib inline"
   ]
  },
  {
   "cell_type": "markdown",
   "metadata": {},
   "source": [
    "We'll be doing a classic survival analysis model, using Cox PH to look at sex differences in time to death (aka. longevity) using data from the [U.S.  National Health Interview Survey](https://ihis.ipums.org/).  This data is particularly great because they have both year of birth and year of death.  Death records stop in 2009 (when the dataset was considered complete), so any people who are still living in 2009 will need to be right-censored.\n",
    "\n",
    "Some people do not have date of birth.  Those cases will be truncated.  \n",
    "\n",
    "Let's start by loading the data, taking a look at it, and cleaning it up:"
   ]
  },
  {
   "cell_type": "code",
   "execution_count": 2,
   "metadata": {},
   "outputs": [],
   "source": [
    "import pandas as pd\n",
    "import matplotlib.pyplot as plt\n",
    "\n",
    "data = pd.read_csv(\"https://tf-assets-prod.s3.amazonaws.com/tf-curric/data-science/nhis.csv\")\n",
    "\n"
   ]
  },
  {
   "cell_type": "code",
   "execution_count": 3,
   "metadata": {
    "scrolled": false
   },
   "outputs": [
    {
     "data": {
      "text/html": [
       "<div>\n",
       "<style scoped>\n",
       "    .dataframe tbody tr th:only-of-type {\n",
       "        vertical-align: middle;\n",
       "    }\n",
       "\n",
       "    .dataframe tbody tr th {\n",
       "        vertical-align: top;\n",
       "    }\n",
       "\n",
       "    .dataframe thead th {\n",
       "        text-align: right;\n",
       "    }\n",
       "</style>\n",
       "<table border=\"1\" class=\"dataframe\">\n",
       "  <thead>\n",
       "    <tr style=\"text-align: right;\">\n",
       "      <th></th>\n",
       "      <th>Unnamed: 0</th>\n",
       "      <th>YEAR</th>\n",
       "      <th>NHISPID</th>\n",
       "      <th>AGE</th>\n",
       "      <th>SEX</th>\n",
       "      <th>SEXORIEN</th>\n",
       "      <th>MARSTAT</th>\n",
       "      <th>BIRTHYR</th>\n",
       "      <th>MORTSTAT</th>\n",
       "      <th>MORTDODY</th>\n",
       "    </tr>\n",
       "  </thead>\n",
       "  <tbody>\n",
       "    <tr>\n",
       "      <th>0</th>\n",
       "      <td>2744230</td>\n",
       "      <td>1986</td>\n",
       "      <td>1986109602890101</td>\n",
       "      <td>60</td>\n",
       "      <td>1</td>\n",
       "      <td>NaN</td>\n",
       "      <td>11</td>\n",
       "      <td>NaN</td>\n",
       "      <td>1.0</td>\n",
       "      <td>2005.0</td>\n",
       "    </tr>\n",
       "    <tr>\n",
       "      <th>1</th>\n",
       "      <td>2744231</td>\n",
       "      <td>1986</td>\n",
       "      <td>1986109602890102</td>\n",
       "      <td>54</td>\n",
       "      <td>2</td>\n",
       "      <td>NaN</td>\n",
       "      <td>11</td>\n",
       "      <td>NaN</td>\n",
       "      <td>1.0</td>\n",
       "      <td>2010.0</td>\n",
       "    </tr>\n",
       "    <tr>\n",
       "      <th>2</th>\n",
       "      <td>2744232</td>\n",
       "      <td>1986</td>\n",
       "      <td>1986109602890103</td>\n",
       "      <td>21</td>\n",
       "      <td>1</td>\n",
       "      <td>NaN</td>\n",
       "      <td>50</td>\n",
       "      <td>NaN</td>\n",
       "      <td>2.0</td>\n",
       "      <td>9999.0</td>\n",
       "    </tr>\n",
       "    <tr>\n",
       "      <th>3</th>\n",
       "      <td>2744233</td>\n",
       "      <td>1986</td>\n",
       "      <td>1986109602890201</td>\n",
       "      <td>46</td>\n",
       "      <td>1</td>\n",
       "      <td>NaN</td>\n",
       "      <td>11</td>\n",
       "      <td>NaN</td>\n",
       "      <td>2.0</td>\n",
       "      <td>9999.0</td>\n",
       "    </tr>\n",
       "    <tr>\n",
       "      <th>4</th>\n",
       "      <td>2744234</td>\n",
       "      <td>1986</td>\n",
       "      <td>1986109602890202</td>\n",
       "      <td>38</td>\n",
       "      <td>2</td>\n",
       "      <td>NaN</td>\n",
       "      <td>11</td>\n",
       "      <td>NaN</td>\n",
       "      <td>2.0</td>\n",
       "      <td>9999.0</td>\n",
       "    </tr>\n",
       "  </tbody>\n",
       "</table>\n",
       "</div>"
      ],
      "text/plain": [
       "   Unnamed: 0  YEAR           NHISPID  AGE  SEX  SEXORIEN  MARSTAT  BIRTHYR  \\\n",
       "0     2744230  1986  1986109602890101   60    1       NaN       11      NaN   \n",
       "1     2744231  1986  1986109602890102   54    2       NaN       11      NaN   \n",
       "2     2744232  1986  1986109602890103   21    1       NaN       50      NaN   \n",
       "3     2744233  1986  1986109602890201   46    1       NaN       11      NaN   \n",
       "4     2744234  1986  1986109602890202   38    2       NaN       11      NaN   \n",
       "\n",
       "   MORTSTAT  MORTDODY  \n",
       "0       1.0    2005.0  \n",
       "1       1.0    2010.0  \n",
       "2       2.0    9999.0  \n",
       "3       2.0    9999.0  \n",
       "4       2.0    9999.0  "
      ]
     },
     "execution_count": 3,
     "metadata": {},
     "output_type": "execute_result"
    }
   ],
   "source": [
    "data.head()"
   ]
  },
  {
   "cell_type": "code",
   "execution_count": 7,
   "metadata": {
    "scrolled": true
   },
   "outputs": [
    {
     "data": {
      "text/plain": [
       "40    35100\n",
       "36    34876\n",
       "35    34871\n",
       "33    34702\n",
       "34    34600\n",
       "      ...  \n",
       "95      185\n",
       "96      156\n",
       "99      121\n",
       "97       82\n",
       "98       66\n",
       "Name: AGE, Length: 82, dtype: int64"
      ]
     },
     "execution_count": 7,
     "metadata": {},
     "output_type": "execute_result"
    }
   ],
   "source": [
    "data.AGE.value_counts()"
   ]
  },
  {
   "cell_type": "code",
   "execution_count": 8,
   "metadata": {},
   "outputs": [
    {
     "data": {
      "text/plain": [
       "1960.0    16640\n",
       "1962.0    16304\n",
       "1961.0    16118\n",
       "1964.0    16105\n",
       "1957.0    16062\n",
       "          ...  \n",
       "1990.0     1518\n",
       "1913.0     1359\n",
       "1991.0      779\n",
       "9998.0      205\n",
       "1992.0        2\n",
       "Name: BIRTHYR, Length: 83, dtype: int64"
      ]
     },
     "execution_count": 8,
     "metadata": {},
     "output_type": "execute_result"
    }
   ],
   "source": [
    "data.BIRTHYR.value_counts()"
   ]
  },
  {
   "cell_type": "code",
   "execution_count": 9,
   "metadata": {},
   "outputs": [
    {
     "data": {
      "text/plain": [
       "1913.0"
      ]
     },
     "execution_count": 9,
     "metadata": {},
     "output_type": "execute_result"
    }
   ],
   "source": [
    "data.BIRTHYR.min()"
   ]
  },
  {
   "cell_type": "code",
   "execution_count": 10,
   "metadata": {},
   "outputs": [
    {
     "data": {
      "text/plain": [
       "9999.0"
      ]
     },
     "execution_count": 10,
     "metadata": {},
     "output_type": "execute_result"
    }
   ],
   "source": [
    "data.BIRTHYR.max()"
   ]
  },
  {
   "cell_type": "code",
   "execution_count": 11,
   "metadata": {},
   "outputs": [
    {
     "data": {
      "text/plain": [
       "8086.0"
      ]
     },
     "execution_count": 11,
     "metadata": {},
     "output_type": "execute_result"
    }
   ],
   "source": [
    "9999.0-1913.0\n"
   ]
  },
  {
   "cell_type": "code",
   "execution_count": 12,
   "metadata": {},
   "outputs": [
    {
     "data": {
      "text/html": [
       "<div>\n",
       "<style scoped>\n",
       "    .dataframe tbody tr th:only-of-type {\n",
       "        vertical-align: middle;\n",
       "    }\n",
       "\n",
       "    .dataframe tbody tr th {\n",
       "        vertical-align: top;\n",
       "    }\n",
       "\n",
       "    .dataframe thead th {\n",
       "        text-align: right;\n",
       "    }\n",
       "</style>\n",
       "<table border=\"1\" class=\"dataframe\">\n",
       "  <thead>\n",
       "    <tr style=\"text-align: right;\">\n",
       "      <th></th>\n",
       "      <th>Unnamed: 0</th>\n",
       "      <th>YEAR</th>\n",
       "      <th>NHISPID</th>\n",
       "      <th>AGE</th>\n",
       "      <th>SEX</th>\n",
       "      <th>SEXORIEN</th>\n",
       "      <th>MARSTAT</th>\n",
       "      <th>BIRTHYR</th>\n",
       "      <th>MORTSTAT</th>\n",
       "      <th>MORTDODY</th>\n",
       "    </tr>\n",
       "  </thead>\n",
       "  <tbody>\n",
       "    <tr>\n",
       "      <th>1605241</th>\n",
       "      <td>5121672</td>\n",
       "      <td>2009</td>\n",
       "      <td>20090641040103</td>\n",
       "      <td>29</td>\n",
       "      <td>1</td>\n",
       "      <td>NaN</td>\n",
       "      <td>10</td>\n",
       "      <td>1980.0</td>\n",
       "      <td>2.0</td>\n",
       "      <td>9999.0</td>\n",
       "    </tr>\n",
       "    <tr>\n",
       "      <th>1605242</th>\n",
       "      <td>5121673</td>\n",
       "      <td>2009</td>\n",
       "      <td>20090641040104</td>\n",
       "      <td>27</td>\n",
       "      <td>1</td>\n",
       "      <td>NaN</td>\n",
       "      <td>10</td>\n",
       "      <td>1982.0</td>\n",
       "      <td>2.0</td>\n",
       "      <td>9999.0</td>\n",
       "    </tr>\n",
       "    <tr>\n",
       "      <th>1605243</th>\n",
       "      <td>5121674</td>\n",
       "      <td>2009</td>\n",
       "      <td>20090641040105</td>\n",
       "      <td>19</td>\n",
       "      <td>1</td>\n",
       "      <td>NaN</td>\n",
       "      <td>50</td>\n",
       "      <td>1990.0</td>\n",
       "      <td>2.0</td>\n",
       "      <td>9999.0</td>\n",
       "    </tr>\n",
       "    <tr>\n",
       "      <th>1605244</th>\n",
       "      <td>5121675</td>\n",
       "      <td>2009</td>\n",
       "      <td>20090641040106</td>\n",
       "      <td>25</td>\n",
       "      <td>1</td>\n",
       "      <td>NaN</td>\n",
       "      <td>50</td>\n",
       "      <td>1984.0</td>\n",
       "      <td>2.0</td>\n",
       "      <td>9999.0</td>\n",
       "    </tr>\n",
       "    <tr>\n",
       "      <th>1605245</th>\n",
       "      <td>5121677</td>\n",
       "      <td>2009</td>\n",
       "      <td>20090641050101</td>\n",
       "      <td>55</td>\n",
       "      <td>2</td>\n",
       "      <td>NaN</td>\n",
       "      <td>30</td>\n",
       "      <td>1954.0</td>\n",
       "      <td>2.0</td>\n",
       "      <td>9999.0</td>\n",
       "    </tr>\n",
       "  </tbody>\n",
       "</table>\n",
       "</div>"
      ],
      "text/plain": [
       "         Unnamed: 0  YEAR         NHISPID  AGE  SEX  SEXORIEN  MARSTAT  \\\n",
       "1605241     5121672  2009  20090641040103   29    1       NaN       10   \n",
       "1605242     5121673  2009  20090641040104   27    1       NaN       10   \n",
       "1605243     5121674  2009  20090641040105   19    1       NaN       50   \n",
       "1605244     5121675  2009  20090641040106   25    1       NaN       50   \n",
       "1605245     5121677  2009  20090641050101   55    2       NaN       30   \n",
       "\n",
       "         BIRTHYR  MORTSTAT  MORTDODY  \n",
       "1605241   1980.0       2.0    9999.0  \n",
       "1605242   1982.0       2.0    9999.0  \n",
       "1605243   1990.0       2.0    9999.0  \n",
       "1605244   1984.0       2.0    9999.0  \n",
       "1605245   1954.0       2.0    9999.0  "
      ]
     },
     "execution_count": 12,
     "metadata": {},
     "output_type": "execute_result"
    }
   ],
   "source": [
    "data.tail()"
   ]
  },
  {
   "cell_type": "code",
   "execution_count": 13,
   "metadata": {},
   "outputs": [
    {
     "data": {
      "text/plain": [
       "(1605246, 10)"
      ]
     },
     "execution_count": 13,
     "metadata": {},
     "output_type": "execute_result"
    }
   ],
   "source": [
    "data.shape"
   ]
  },
  {
   "cell_type": "code",
   "execution_count": 14,
   "metadata": {},
   "outputs": [
    {
     "data": {
      "text/plain": [
       "(1605246, 10)"
      ]
     },
     "execution_count": 14,
     "metadata": {},
     "output_type": "execute_result"
    }
   ],
   "source": [
    "data.shape"
   ]
  },
  {
   "cell_type": "code",
   "execution_count": 15,
   "metadata": {
    "scrolled": false
   },
   "outputs": [
    {
     "data": {
      "text/plain": [
       "Unnamed: 0          0\n",
       "YEAR                0\n",
       "NHISPID             0\n",
       "AGE                 0\n",
       "SEX                 0\n",
       "SEXORIEN      1605246\n",
       "MARSTAT             0\n",
       "BIRTHYR        829402\n",
       "MORTSTAT            0\n",
       "MORTDODY            0\n",
       "dtype: int64"
      ]
     },
     "execution_count": 15,
     "metadata": {},
     "output_type": "execute_result"
    }
   ],
   "source": [
    "data.isnull().sum()"
   ]
  },
  {
   "cell_type": "code",
   "execution_count": 16,
   "metadata": {},
   "outputs": [],
   "source": [
    "# remove a single column (axis=1 refers to columns)\n",
    "data.drop('SEXORIEN', axis = 1, inplace = True)"
   ]
  },
  {
   "cell_type": "code",
   "execution_count": 17,
   "metadata": {
    "scrolled": true
   },
   "outputs": [
    {
     "data": {
      "text/html": [
       "<div>\n",
       "<style scoped>\n",
       "    .dataframe tbody tr th:only-of-type {\n",
       "        vertical-align: middle;\n",
       "    }\n",
       "\n",
       "    .dataframe tbody tr th {\n",
       "        vertical-align: top;\n",
       "    }\n",
       "\n",
       "    .dataframe thead th {\n",
       "        text-align: right;\n",
       "    }\n",
       "</style>\n",
       "<table border=\"1\" class=\"dataframe\">\n",
       "  <thead>\n",
       "    <tr style=\"text-align: right;\">\n",
       "      <th></th>\n",
       "      <th>Unnamed: 0</th>\n",
       "      <th>YEAR</th>\n",
       "      <th>NHISPID</th>\n",
       "      <th>AGE</th>\n",
       "      <th>SEX</th>\n",
       "      <th>MARSTAT</th>\n",
       "      <th>BIRTHYR</th>\n",
       "      <th>MORTSTAT</th>\n",
       "      <th>MORTDODY</th>\n",
       "    </tr>\n",
       "  </thead>\n",
       "  <tbody>\n",
       "    <tr>\n",
       "      <th>count</th>\n",
       "      <td>1.605246e+06</td>\n",
       "      <td>1.605246e+06</td>\n",
       "      <td>1.605246e+06</td>\n",
       "      <td>1.605246e+06</td>\n",
       "      <td>1.605246e+06</td>\n",
       "      <td>1.605246e+06</td>\n",
       "      <td>775844.000000</td>\n",
       "      <td>1.605246e+06</td>\n",
       "      <td>1.605246e+06</td>\n",
       "    </tr>\n",
       "    <tr>\n",
       "      <th>mean</th>\n",
       "      <td>3.912783e+06</td>\n",
       "      <td>1.996629e+03</td>\n",
       "      <td>1.038483e+15</td>\n",
       "      <td>4.480116e+01</td>\n",
       "      <td>1.532664e+00</td>\n",
       "      <td>2.224264e+01</td>\n",
       "      <td>2181.119822</td>\n",
       "      <td>1.834448e+00</td>\n",
       "      <td>8.675186e+03</td>\n",
       "    </tr>\n",
       "    <tr>\n",
       "      <th>std</th>\n",
       "      <td>6.910911e+05</td>\n",
       "      <td>6.812085e+00</td>\n",
       "      <td>9.850259e+14</td>\n",
       "      <td>1.756692e+01</td>\n",
       "      <td>4.989321e-01</td>\n",
       "      <td>1.663380e+01</td>\n",
       "      <td>1323.690066</td>\n",
       "      <td>3.716777e-01</td>\n",
       "      <td>2.972078e+03</td>\n",
       "    </tr>\n",
       "    <tr>\n",
       "      <th>min</th>\n",
       "      <td>2.744230e+06</td>\n",
       "      <td>1.986000e+03</td>\n",
       "      <td>1.997000e+13</td>\n",
       "      <td>1.800000e+01</td>\n",
       "      <td>1.000000e+00</td>\n",
       "      <td>1.000000e+01</td>\n",
       "      <td>1913.000000</td>\n",
       "      <td>1.000000e+00</td>\n",
       "      <td>1.986000e+03</td>\n",
       "    </tr>\n",
       "    <tr>\n",
       "      <th>25%</th>\n",
       "      <td>3.310076e+06</td>\n",
       "      <td>1.991000e+03</td>\n",
       "      <td>2.003023e+13</td>\n",
       "      <td>3.100000e+01</td>\n",
       "      <td>1.000000e+00</td>\n",
       "      <td>1.100000e+01</td>\n",
       "      <td>1946.000000</td>\n",
       "      <td>2.000000e+00</td>\n",
       "      <td>9.999000e+03</td>\n",
       "    </tr>\n",
       "    <tr>\n",
       "      <th>50%</th>\n",
       "      <td>3.889598e+06</td>\n",
       "      <td>1.996000e+03</td>\n",
       "      <td>1.986344e+15</td>\n",
       "      <td>4.200000e+01</td>\n",
       "      <td>2.000000e+00</td>\n",
       "      <td>1.100000e+01</td>\n",
       "      <td>1959.000000</td>\n",
       "      <td>2.000000e+00</td>\n",
       "      <td>9.999000e+03</td>\n",
       "    </tr>\n",
       "    <tr>\n",
       "      <th>75%</th>\n",
       "      <td>4.511346e+06</td>\n",
       "      <td>2.002000e+03</td>\n",
       "      <td>1.991305e+15</td>\n",
       "      <td>5.700000e+01</td>\n",
       "      <td>2.000000e+00</td>\n",
       "      <td>3.000000e+01</td>\n",
       "      <td>1972.000000</td>\n",
       "      <td>2.000000e+00</td>\n",
       "      <td>9.999000e+03</td>\n",
       "    </tr>\n",
       "    <tr>\n",
       "      <th>max</th>\n",
       "      <td>5.121677e+06</td>\n",
       "      <td>2.009000e+03</td>\n",
       "      <td>1.996359e+15</td>\n",
       "      <td>9.900000e+01</td>\n",
       "      <td>2.000000e+00</td>\n",
       "      <td>9.900000e+01</td>\n",
       "      <td>9999.000000</td>\n",
       "      <td>2.000000e+00</td>\n",
       "      <td>9.999000e+03</td>\n",
       "    </tr>\n",
       "  </tbody>\n",
       "</table>\n",
       "</div>"
      ],
      "text/plain": [
       "         Unnamed: 0          YEAR       NHISPID           AGE           SEX  \\\n",
       "count  1.605246e+06  1.605246e+06  1.605246e+06  1.605246e+06  1.605246e+06   \n",
       "mean   3.912783e+06  1.996629e+03  1.038483e+15  4.480116e+01  1.532664e+00   \n",
       "std    6.910911e+05  6.812085e+00  9.850259e+14  1.756692e+01  4.989321e-01   \n",
       "min    2.744230e+06  1.986000e+03  1.997000e+13  1.800000e+01  1.000000e+00   \n",
       "25%    3.310076e+06  1.991000e+03  2.003023e+13  3.100000e+01  1.000000e+00   \n",
       "50%    3.889598e+06  1.996000e+03  1.986344e+15  4.200000e+01  2.000000e+00   \n",
       "75%    4.511346e+06  2.002000e+03  1.991305e+15  5.700000e+01  2.000000e+00   \n",
       "max    5.121677e+06  2.009000e+03  1.996359e+15  9.900000e+01  2.000000e+00   \n",
       "\n",
       "            MARSTAT        BIRTHYR      MORTSTAT      MORTDODY  \n",
       "count  1.605246e+06  775844.000000  1.605246e+06  1.605246e+06  \n",
       "mean   2.224264e+01    2181.119822  1.834448e+00  8.675186e+03  \n",
       "std    1.663380e+01    1323.690066  3.716777e-01  2.972078e+03  \n",
       "min    1.000000e+01    1913.000000  1.000000e+00  1.986000e+03  \n",
       "25%    1.100000e+01    1946.000000  2.000000e+00  9.999000e+03  \n",
       "50%    1.100000e+01    1959.000000  2.000000e+00  9.999000e+03  \n",
       "75%    3.000000e+01    1972.000000  2.000000e+00  9.999000e+03  \n",
       "max    9.900000e+01    9999.000000  2.000000e+00  9.999000e+03  "
      ]
     },
     "execution_count": 17,
     "metadata": {},
     "output_type": "execute_result"
    }
   ],
   "source": [
    "data.describe()"
   ]
  },
  {
   "cell_type": "code",
   "execution_count": null,
   "metadata": {},
   "outputs": [],
   "source": [
    "data.columns"
   ]
  },
  {
   "cell_type": "code",
   "execution_count": 19,
   "metadata": {
    "scrolled": true
   },
   "outputs": [
    {
     "name": "stderr",
     "output_type": "stream",
     "text": [
      "C:\\Users\\catan\\.conda\\envs\\catanEnv\\lib\\site-packages\\ipykernel_launcher.py:5: SettingWithCopyWarning: \n",
      "A value is trying to be set on a copy of a slice from a DataFrame.\n",
      "Try using .loc[row_indexer,col_indexer] = value instead\n",
      "\n",
      "See the caveats in the documentation: http://pandas.pydata.org/pandas-docs/stable/user_guide/indexing.html#returning-a-view-versus-a-copy\n",
      "  \"\"\"\n",
      "C:\\Users\\catan\\.conda\\envs\\catanEnv\\lib\\site-packages\\ipykernel_launcher.py:8: SettingWithCopyWarning: \n",
      "A value is trying to be set on a copy of a slice from a DataFrame.\n",
      "Try using .loc[row_indexer,col_indexer] = value instead\n",
      "\n",
      "See the caveats in the documentation: http://pandas.pydata.org/pandas-docs/stable/user_guide/indexing.html#returning-a-view-versus-a-copy\n",
      "  \n",
      "C:\\Users\\catan\\.conda\\envs\\catanEnv\\lib\\site-packages\\pandas\\core\\indexing.py:480: SettingWithCopyWarning: \n",
      "A value is trying to be set on a copy of a slice from a DataFrame.\n",
      "Try using .loc[row_indexer,col_indexer] = value instead\n",
      "\n",
      "See the caveats in the documentation: http://pandas.pydata.org/pandas-docs/stable/user_guide/indexing.html#returning-a-view-versus-a-copy\n",
      "  self.obj[item] = s\n",
      "C:\\Users\\catan\\.conda\\envs\\catanEnv\\lib\\site-packages\\ipykernel_launcher.py:14: SettingWithCopyWarning: \n",
      "A value is trying to be set on a copy of a slice from a DataFrame.\n",
      "Try using .loc[row_indexer,col_indexer] = value instead\n",
      "\n",
      "See the caveats in the documentation: http://pandas.pydata.org/pandas-docs/stable/user_guide/indexing.html#returning-a-view-versus-a-copy\n",
      "  \n"
     ]
    }
   ],
   "source": [
    "\n",
    "# Dropping cases where birth year is not known\n",
    "data2 =data[(data[\"BIRTHYR\"]<=2009) & (data[\"BIRTHYR\"].notnull())]\n",
    "\n",
    "# Calculating time-to-event\n",
    "data2[\"Longevity\"]= data2[\"MORTDODY\"] - data2[\"BIRTHYR\"]\n",
    "\n",
    "# Creating a 'status' variable where 1 means dead and 0 means alive as of 2009\n",
    "data2[\"dead\"]=2-data2['MORTSTAT']\n",
    "\n",
    "# For people who were alive as of 2009, calculating their longevity as their age in 2009\n",
    "data2.loc[data2['dead']==0,\"Longevity\"] = 2009 -data2.loc[data2['dead']==0,\"BIRTHYR\"] \n",
    "\n",
    "# Creating a binary variable where 1 = female and 0 = male\n",
    "data2[\"female\"] = (data2[\"SEX\"] == 2).astype(int)\n"
   ]
  },
  {
   "cell_type": "code",
   "execution_count": 20,
   "metadata": {
    "scrolled": true
   },
   "outputs": [
    {
     "data": {
      "text/plain": [
       "Unnamed: 0      int64\n",
       "YEAR            int64\n",
       "NHISPID         int64\n",
       "AGE             int64\n",
       "SEX             int64\n",
       "MARSTAT         int64\n",
       "BIRTHYR       float64\n",
       "MORTSTAT      float64\n",
       "MORTDODY      float64\n",
       "Longevity     float64\n",
       "dead          float64\n",
       "female          int32\n",
       "dtype: object"
      ]
     },
     "execution_count": 20,
     "metadata": {},
     "output_type": "execute_result"
    }
   ],
   "source": [
    "data2.dtypes"
   ]
  },
  {
   "cell_type": "code",
   "execution_count": null,
   "metadata": {},
   "outputs": [],
   "source": []
  },
  {
   "cell_type": "code",
   "execution_count": 23,
   "metadata": {
    "scrolled": true
   },
   "outputs": [
    {
     "data": {
      "text/plain": [
       "829402     46.0\n",
       "829403     49.0\n",
       "829405     65.0\n",
       "829407     54.0\n",
       "829408     49.0\n",
       "           ... \n",
       "1605241    29.0\n",
       "1605242    27.0\n",
       "1605243    19.0\n",
       "1605244    25.0\n",
       "1605245    55.0\n",
       "Name: Longevity, Length: 686836, dtype: float64"
      ]
     },
     "execution_count": 23,
     "metadata": {},
     "output_type": "execute_result"
    }
   ],
   "source": [
    "data2.loc[data2['dead']==0,\"Longevity\"] "
   ]
  },
  {
   "cell_type": "code",
   "execution_count": 22,
   "metadata": {},
   "outputs": [
    {
     "data": {
      "text/plain": [
       "0          False\n",
       "1          False\n",
       "2          False\n",
       "3          False\n",
       "4          False\n",
       "           ...  \n",
       "1605241     True\n",
       "1605242     True\n",
       "1605243     True\n",
       "1605244     True\n",
       "1605245     True\n",
       "Name: BIRTHYR, Length: 1605246, dtype: bool"
      ]
     },
     "execution_count": 22,
     "metadata": {},
     "output_type": "execute_result"
    }
   ],
   "source": [
    "data[\"BIRTHYR\"].notnull()"
   ]
  },
  {
   "cell_type": "code",
   "execution_count": 21,
   "metadata": {
    "scrolled": true
   },
   "outputs": [
    {
     "data": {
      "text/plain": [
       "(754219, 12)"
      ]
     },
     "execution_count": 21,
     "metadata": {},
     "output_type": "execute_result"
    }
   ],
   "source": [
    "data2.shape"
   ]
  },
  {
   "cell_type": "code",
   "execution_count": 24,
   "metadata": {},
   "outputs": [
    {
     "data": {
      "text/plain": [
       "Unnamed: 0    0\n",
       "YEAR          0\n",
       "NHISPID       0\n",
       "AGE           0\n",
       "SEX           0\n",
       "MARSTAT       0\n",
       "BIRTHYR       0\n",
       "MORTSTAT      0\n",
       "MORTDODY      0\n",
       "Longevity     0\n",
       "dead          0\n",
       "female        0\n",
       "dtype: int64"
      ]
     },
     "execution_count": 24,
     "metadata": {},
     "output_type": "execute_result"
    }
   ],
   "source": [
    "data2.isna().sum()"
   ]
  },
  {
   "cell_type": "code",
   "execution_count": 25,
   "metadata": {
    "scrolled": true
   },
   "outputs": [
    {
     "data": {
      "text/html": [
       "<div>\n",
       "<style scoped>\n",
       "    .dataframe tbody tr th:only-of-type {\n",
       "        vertical-align: middle;\n",
       "    }\n",
       "\n",
       "    .dataframe tbody tr th {\n",
       "        vertical-align: top;\n",
       "    }\n",
       "\n",
       "    .dataframe thead th {\n",
       "        text-align: right;\n",
       "    }\n",
       "</style>\n",
       "<table border=\"1\" class=\"dataframe\">\n",
       "  <thead>\n",
       "    <tr style=\"text-align: right;\">\n",
       "      <th></th>\n",
       "      <th>Unnamed: 0</th>\n",
       "      <th>YEAR</th>\n",
       "      <th>NHISPID</th>\n",
       "      <th>AGE</th>\n",
       "      <th>SEX</th>\n",
       "      <th>MARSTAT</th>\n",
       "      <th>BIRTHYR</th>\n",
       "      <th>MORTSTAT</th>\n",
       "      <th>MORTDODY</th>\n",
       "      <th>Longevity</th>\n",
       "      <th>dead</th>\n",
       "      <th>female</th>\n",
       "    </tr>\n",
       "  </thead>\n",
       "  <tbody>\n",
       "    <tr>\n",
       "      <th>829402</th>\n",
       "      <td>3928174</td>\n",
       "      <td>1997</td>\n",
       "      <td>19970003080101</td>\n",
       "      <td>33</td>\n",
       "      <td>2</td>\n",
       "      <td>11</td>\n",
       "      <td>1963.0</td>\n",
       "      <td>2.0</td>\n",
       "      <td>9999.0</td>\n",
       "      <td>46.0</td>\n",
       "      <td>0.0</td>\n",
       "      <td>1</td>\n",
       "    </tr>\n",
       "    <tr>\n",
       "      <th>829403</th>\n",
       "      <td>3928175</td>\n",
       "      <td>1997</td>\n",
       "      <td>19970003080102</td>\n",
       "      <td>36</td>\n",
       "      <td>1</td>\n",
       "      <td>11</td>\n",
       "      <td>1960.0</td>\n",
       "      <td>2.0</td>\n",
       "      <td>9999.0</td>\n",
       "      <td>49.0</td>\n",
       "      <td>0.0</td>\n",
       "      <td>0</td>\n",
       "    </tr>\n",
       "    <tr>\n",
       "      <th>829404</th>\n",
       "      <td>3928178</td>\n",
       "      <td>1997</td>\n",
       "      <td>19970003090101</td>\n",
       "      <td>42</td>\n",
       "      <td>1</td>\n",
       "      <td>11</td>\n",
       "      <td>1954.0</td>\n",
       "      <td>1.0</td>\n",
       "      <td>1999.0</td>\n",
       "      <td>45.0</td>\n",
       "      <td>1.0</td>\n",
       "      <td>0</td>\n",
       "    </tr>\n",
       "    <tr>\n",
       "      <th>829405</th>\n",
       "      <td>3928179</td>\n",
       "      <td>1997</td>\n",
       "      <td>19970003090102</td>\n",
       "      <td>52</td>\n",
       "      <td>2</td>\n",
       "      <td>11</td>\n",
       "      <td>1944.0</td>\n",
       "      <td>2.0</td>\n",
       "      <td>9999.0</td>\n",
       "      <td>65.0</td>\n",
       "      <td>0.0</td>\n",
       "      <td>1</td>\n",
       "    </tr>\n",
       "    <tr>\n",
       "      <th>829407</th>\n",
       "      <td>3928182</td>\n",
       "      <td>1997</td>\n",
       "      <td>19970003100101</td>\n",
       "      <td>41</td>\n",
       "      <td>1</td>\n",
       "      <td>11</td>\n",
       "      <td>1955.0</td>\n",
       "      <td>2.0</td>\n",
       "      <td>9999.0</td>\n",
       "      <td>54.0</td>\n",
       "      <td>0.0</td>\n",
       "      <td>0</td>\n",
       "    </tr>\n",
       "  </tbody>\n",
       "</table>\n",
       "</div>"
      ],
      "text/plain": [
       "        Unnamed: 0  YEAR         NHISPID  AGE  SEX  MARSTAT  BIRTHYR  \\\n",
       "829402     3928174  1997  19970003080101   33    2       11   1963.0   \n",
       "829403     3928175  1997  19970003080102   36    1       11   1960.0   \n",
       "829404     3928178  1997  19970003090101   42    1       11   1954.0   \n",
       "829405     3928179  1997  19970003090102   52    2       11   1944.0   \n",
       "829407     3928182  1997  19970003100101   41    1       11   1955.0   \n",
       "\n",
       "        MORTSTAT  MORTDODY  Longevity  dead  female  \n",
       "829402       2.0    9999.0       46.0   0.0       1  \n",
       "829403       2.0    9999.0       49.0   0.0       0  \n",
       "829404       1.0    1999.0       45.0   1.0       0  \n",
       "829405       2.0    9999.0       65.0   0.0       1  \n",
       "829407       2.0    9999.0       54.0   0.0       0  "
      ]
     },
     "execution_count": 25,
     "metadata": {},
     "output_type": "execute_result"
    }
   ],
   "source": [
    "data2.head()"
   ]
  },
  {
   "cell_type": "code",
   "execution_count": 26,
   "metadata": {},
   "outputs": [
    {
     "data": {
      "image/png": "[encoded data removed]",
      "text/plain": [
       "<Figure size 432x432 with 4 Axes>"
      ]
     },
     "metadata": {
      "needs_background": "light"
     },
     "output_type": "display_data"
    }
   ],
   "source": [
    "g = sns.FacetGrid(data2, row=\"female\", col=\"dead\",margin_titles=True)\n",
    "g.map(plt.hist, \"Longevity\", color=\"steelblue\", lw=0)\n",
    "plt.show()"
   ]
  },
  {
   "cell_type": "markdown",
   "metadata": {},
   "source": [
    "# The first look\n",
    "\n",
    "After data cleaning, we've gone from 1605246 records to 1305561.  The vast majority of our sample was still living as of 2009.  This means most of our data will be right-censored.\n",
    "\n",
    "Now we're going to use the `statsmodels` survival analysis functions to create some models for our data.  First, we can calculate the Hazard (risk of death) for each age, starting at the youngest people in the sample (18 years old in 2009). "
   ]
  },
  {
   "cell_type": "code",
   "execution_count": 27,
   "metadata": {},
   "outputs": [
    {
     "data": {
      "text/html": [
       "<div>\n",
       "<style scoped>\n",
       "    .dataframe tbody tr th:only-of-type {\n",
       "        vertical-align: middle;\n",
       "    }\n",
       "\n",
       "    .dataframe tbody tr th {\n",
       "        vertical-align: top;\n",
       "    }\n",
       "\n",
       "    .dataframe thead th {\n",
       "        text-align: right;\n",
       "    }\n",
       "</style>\n",
       "<table border=\"1\" class=\"dataframe\">\n",
       "  <thead>\n",
       "    <tr style=\"text-align: right;\">\n",
       "      <th></th>\n",
       "      <th>Surv prob</th>\n",
       "      <th>Surv prob SE</th>\n",
       "      <th>num at risk</th>\n",
       "      <th>num events</th>\n",
       "    </tr>\n",
       "    <tr>\n",
       "      <th>Time</th>\n",
       "      <th></th>\n",
       "      <th></th>\n",
       "      <th></th>\n",
       "      <th></th>\n",
       "    </tr>\n",
       "  </thead>\n",
       "  <tbody>\n",
       "    <tr>\n",
       "      <th>18.0</th>\n",
       "      <td>0.999997</td>\n",
       "      <td>0.000002</td>\n",
       "      <td>754217</td>\n",
       "      <td>2.0</td>\n",
       "    </tr>\n",
       "    <tr>\n",
       "      <th>19.0</th>\n",
       "      <td>0.999981</td>\n",
       "      <td>0.000005</td>\n",
       "      <td>753439</td>\n",
       "      <td>12.0</td>\n",
       "    </tr>\n",
       "    <tr>\n",
       "      <th>20.0</th>\n",
       "      <td>0.999940</td>\n",
       "      <td>0.000009</td>\n",
       "      <td>751911</td>\n",
       "      <td>31.0</td>\n",
       "    </tr>\n",
       "    <tr>\n",
       "      <th>21.0</th>\n",
       "      <td>0.999879</td>\n",
       "      <td>0.000013</td>\n",
       "      <td>749414</td>\n",
       "      <td>46.0</td>\n",
       "    </tr>\n",
       "    <tr>\n",
       "      <th>22.0</th>\n",
       "      <td>0.999825</td>\n",
       "      <td>0.000015</td>\n",
       "      <td>746169</td>\n",
       "      <td>40.0</td>\n",
       "    </tr>\n",
       "  </tbody>\n",
       "</table>\n",
       "</div>"
      ],
      "text/plain": [
       "      Surv prob  Surv prob SE  num at risk  num events\n",
       "Time                                                  \n",
       "18.0   0.999997      0.000002       754217         2.0\n",
       "19.0   0.999981      0.000005       753439        12.0\n",
       "20.0   0.999940      0.000009       751911        31.0\n",
       "21.0   0.999879      0.000013       749414        46.0\n",
       "22.0   0.999825      0.000015       746169        40.0"
      ]
     },
     "execution_count": 27,
     "metadata": {},
     "output_type": "execute_result"
    }
   ],
   "source": [
    "import statsmodels.api as sm\n",
    "import statsmodels.formula.api as smf\n",
    "\n",
    "sf = sm.SurvfuncRight(data2[\"Longevity\"], data2[\"dead\"])\n",
    "sf.summary().head()"
   ]
  },
  {
   "cell_type": "markdown",
   "metadata": {},
   "source": [
    "You can notice a few things in the survival table: \n",
    "* First, only 2 people in the sample died at the age of 18, with the number of deaths increasing after that.\n",
    "* Second, the standard error steadily gets larger as the sample size (the number at risk, aka. the number of people alive at that timepoint) shrinks.  \n",
    "* Finally, the 'number at risk' drops at each timepoint, but by quite a bit more than the number of deaths.  This reflects our right-censoring.  If someone turned 18 in 2009 and didn't die, they don't count toward the 'number at risk' at age 19 because they're out of the observation window, but they also aren't an event at timepoint 18 because they were still alive at that age.\n",
    "\n",
    "We can also make a very nice survival plot for the men and the women:"
   ]
  },
  {
   "cell_type": "code",
   "execution_count": 28,
   "metadata": {},
   "outputs": [
    {
     "data": {
      "text/plain": [
       "(0.85, 1)"
      ]
     },
     "execution_count": 28,
     "metadata": {},
     "output_type": "execute_result"
    },
    {
     "data": {
      "image/png": "[encoded data removed]",
      "text/plain": [
       "<Figure size 432x288 with 1 Axes>"
      ]
     },
     "metadata": {
      "needs_background": "light"
     },
     "output_type": "display_data"
    }
   ],
   "source": [
    "# Code for this plot modified from the statsmodels documentation at http://www.statsmodels.org/dev/duration.html\n",
    "\n",
    "groups = data2.groupby(\"female\")\n",
    "ax = plt.axes()\n",
    "sexes = [\"male\",\"female\"]\n",
    "\n",
    "# Fitting a survival function for each group\n",
    "for group in groups:\n",
    "    sf = sm.SurvfuncRight(group[1][\"Longevity\"], group[1][\"dead\"])\n",
    "    sf.plot(ax)\n",
    "li = ax.get_lines()\n",
    "plt.figlegend((li[0], li[2]), sexes, \"center right\")\n",
    "ax.set_ylabel(\"Proportion alive\")\n",
    "ax.set_xlabel(\"Age\")\n",
    "ax.set_autoscaley_on(False)\n",
    "ax.set_ylim([.85,1])\n",
    "\n"
   ]
  },
  {
   "cell_type": "code",
   "execution_count": 32,
   "metadata": {},
   "outputs": [
    {
     "data": {
      "text/plain": [
       "<pandas.core.groupby.generic.DataFrameGroupBy object at 0x0000017CBEA3F688>"
      ]
     },
     "execution_count": 32,
     "metadata": {},
     "output_type": "execute_result"
    }
   ],
   "source": [
    "groups = data2.groupby('female')\n",
    "groups"
   ]
  },
  {
   "cell_type": "markdown",
   "metadata": {},
   "source": [
    "Most people are still alive, but this may be due to extreme right-censoring.  \n",
    "\n",
    "# Cox PH for gender\n",
    "\n",
    "A graph is all very well, but is the difference in longevity for men and women meaningful?  We can test using the Cox PH model."
   ]
  },
  {
   "cell_type": "code",
   "execution_count": 33,
   "metadata": {},
   "outputs": [
    {
     "data": {
      "text/html": [
       "<table class=\"simpletable\">\n",
       "<tr>\n",
       "        <td>Model:</td>         <td>PH Reg</td>   <td>Sample size:</td> <td>754217</td>\n",
       "</tr>\n",
       "<tr>\n",
       "  <td>Dependent variable:</td> <td>Longevity</td> <td>Num. events:</td>  <td>67383</td>\n",
       "</tr>\n",
       "<tr>\n",
       "         <td>Ties:</td>         <td>Breslow</td>        <td></td>          <td></td>   \n",
       "</tr>\n",
       "</table>\n",
       "<table class=\"simpletable\">\n",
       "<tr>\n",
       "     <td></td>    <th>log HR</th>  <th>log HR SE</th>   <th>HR</th>       <th>t</th>     <th>P>|t|</th> <th>[0.025</th> <th>0.975]</th>\n",
       "</tr>\n",
       "<tr>\n",
       "  <th>female</th> <td>-0.4460</td>  <td>0.0078</td>   <td>0.6402</td> <td>-57.5296</td> <td>0.0000</td> <td>0.6306</td> <td>0.6500</td>\n",
       "</tr>\n",
       "</table>"
      ],
      "text/plain": [
       "<class 'statsmodels.iolib.summary2.Summary'>\n",
       "\"\"\"\n",
       "                       Results: PHReg\n",
       "=============================================================\n",
       "Model:                  PH Reg        Sample size:     754217\n",
       "Dependent variable:     Longevity     Num. events:     67383 \n",
       "Ties:                   Breslow                              \n",
       "-------------------------------------------------------------\n",
       "        log HR log HR SE   HR      t     P>|t|  [0.025 0.975]\n",
       "-------------------------------------------------------------\n",
       "female -0.4460    0.0078 0.6402 -57.5296 0.0000 0.6306 0.6500\n",
       "=============================================================\n",
       "Confidence intervals are for the hazard ratios\n",
       "\"\"\""
      ]
     },
     "execution_count": 33,
     "metadata": {},
     "output_type": "execute_result"
    }
   ],
   "source": [
    "mod = smf.phreg(\"Longevity ~ female\", # The model\n",
    "                data2, # The data\n",
    "                status=data2['dead'].values # Whether values are right-censored\n",
    "                ) \n",
    "rslt = mod.fit()\n",
    "rslt.summary()"
   ]
  },
  {
   "cell_type": "markdown",
   "metadata": {
    "collapsed": true
   },
   "source": [
    "It looks like the difference is meaningful.  The convention is to report and interpret the Hazard Ratio (HR) rather than the log HR.  According to the Cox PH, at any given age, women are 64% less likely to die than men, with a 95% confidence interval of 63% to 65%.  This difference is statistically significant at $\\alpha$ of .05 (p < .0001).  Our confidence interval is tiny because our sample is so big!\n",
    "\n",
    "Looking from the plot to the model, you may notice that the data tell a slightly different story.  The survival rate discrepancy seems to shrink a bit after age 80.  This suggests that either we should include some additional features in the model to try and account for this discrepancy, or we should use a different modeling technique that doesn't assume that the effects of features are consistent across all values.\n",
    "\n",
    "We can plot the predicted survival rates from the model:"
   ]
  },
  {
   "cell_type": "code",
   "execution_count": 34,
   "metadata": {},
   "outputs": [
    {
     "data": {
      "text/html": [
       "<div>\n",
       "<style scoped>\n",
       "    .dataframe tbody tr th:only-of-type {\n",
       "        vertical-align: middle;\n",
       "    }\n",
       "\n",
       "    .dataframe tbody tr th {\n",
       "        vertical-align: top;\n",
       "    }\n",
       "\n",
       "    .dataframe thead th {\n",
       "        text-align: right;\n",
       "    }\n",
       "</style>\n",
       "<table border=\"1\" class=\"dataframe\">\n",
       "  <thead>\n",
       "    <tr style=\"text-align: right;\">\n",
       "      <th></th>\n",
       "      <th>Unnamed: 0</th>\n",
       "      <th>YEAR</th>\n",
       "      <th>NHISPID</th>\n",
       "      <th>AGE</th>\n",
       "      <th>SEX</th>\n",
       "      <th>MARSTAT</th>\n",
       "      <th>BIRTHYR</th>\n",
       "      <th>MORTSTAT</th>\n",
       "      <th>MORTDODY</th>\n",
       "      <th>Longevity</th>\n",
       "      <th>dead</th>\n",
       "      <th>female</th>\n",
       "      <th>predicted</th>\n",
       "    </tr>\n",
       "  </thead>\n",
       "  <tbody>\n",
       "    <tr>\n",
       "      <th>829402</th>\n",
       "      <td>3928174</td>\n",
       "      <td>1997</td>\n",
       "      <td>19970003080101</td>\n",
       "      <td>33</td>\n",
       "      <td>2</td>\n",
       "      <td>11</td>\n",
       "      <td>1963.0</td>\n",
       "      <td>2.0</td>\n",
       "      <td>9999.0</td>\n",
       "      <td>46.0</td>\n",
       "      <td>0.0</td>\n",
       "      <td>1</td>\n",
       "      <td>0.994803</td>\n",
       "    </tr>\n",
       "    <tr>\n",
       "      <th>829403</th>\n",
       "      <td>3928175</td>\n",
       "      <td>1997</td>\n",
       "      <td>19970003080102</td>\n",
       "      <td>36</td>\n",
       "      <td>1</td>\n",
       "      <td>11</td>\n",
       "      <td>1960.0</td>\n",
       "      <td>2.0</td>\n",
       "      <td>9999.0</td>\n",
       "      <td>49.0</td>\n",
       "      <td>0.0</td>\n",
       "      <td>0</td>\n",
       "      <td>0.988401</td>\n",
       "    </tr>\n",
       "    <tr>\n",
       "      <th>829404</th>\n",
       "      <td>3928178</td>\n",
       "      <td>1997</td>\n",
       "      <td>19970003090101</td>\n",
       "      <td>42</td>\n",
       "      <td>1</td>\n",
       "      <td>11</td>\n",
       "      <td>1954.0</td>\n",
       "      <td>1.0</td>\n",
       "      <td>1999.0</td>\n",
       "      <td>45.0</td>\n",
       "      <td>1.0</td>\n",
       "      <td>0</td>\n",
       "      <td>0.992777</td>\n",
       "    </tr>\n",
       "    <tr>\n",
       "      <th>829405</th>\n",
       "      <td>3928179</td>\n",
       "      <td>1997</td>\n",
       "      <td>19970003090102</td>\n",
       "      <td>52</td>\n",
       "      <td>2</td>\n",
       "      <td>11</td>\n",
       "      <td>1944.0</td>\n",
       "      <td>2.0</td>\n",
       "      <td>9999.0</td>\n",
       "      <td>65.0</td>\n",
       "      <td>0.0</td>\n",
       "      <td>1</td>\n",
       "      <td>0.956459</td>\n",
       "    </tr>\n",
       "    <tr>\n",
       "      <th>829407</th>\n",
       "      <td>3928182</td>\n",
       "      <td>1997</td>\n",
       "      <td>19970003100101</td>\n",
       "      <td>41</td>\n",
       "      <td>1</td>\n",
       "      <td>11</td>\n",
       "      <td>1955.0</td>\n",
       "      <td>2.0</td>\n",
       "      <td>9999.0</td>\n",
       "      <td>54.0</td>\n",
       "      <td>0.0</td>\n",
       "      <td>0</td>\n",
       "      <td>0.978739</td>\n",
       "    </tr>\n",
       "  </tbody>\n",
       "</table>\n",
       "</div>"
      ],
      "text/plain": [
       "        Unnamed: 0  YEAR         NHISPID  AGE  SEX  MARSTAT  BIRTHYR  \\\n",
       "829402     3928174  1997  19970003080101   33    2       11   1963.0   \n",
       "829403     3928175  1997  19970003080102   36    1       11   1960.0   \n",
       "829404     3928178  1997  19970003090101   42    1       11   1954.0   \n",
       "829405     3928179  1997  19970003090102   52    2       11   1944.0   \n",
       "829407     3928182  1997  19970003100101   41    1       11   1955.0   \n",
       "\n",
       "        MORTSTAT  MORTDODY  Longevity  dead  female  predicted  \n",
       "829402       2.0    9999.0       46.0   0.0       1   0.994803  \n",
       "829403       2.0    9999.0       49.0   0.0       0   0.988401  \n",
       "829404       1.0    1999.0       45.0   1.0       0   0.992777  \n",
       "829405       2.0    9999.0       65.0   0.0       1   0.956459  \n",
       "829407       2.0    9999.0       54.0   0.0       0   0.978739  "
      ]
     },
     "execution_count": 34,
     "metadata": {},
     "output_type": "execute_result"
    }
   ],
   "source": [
    "data3=data2[(data2['Longevity'].notnull()) & (data2['female'].notnull()) & (data2['dead'].notnull())]\n",
    "data3[\"predicted\"] = rslt.predict(pred_type='surv').predicted_values\n",
    "\n",
    "data3.head()\n",
    "\n"
   ]
  },
  {
   "cell_type": "code",
   "execution_count": 35,
   "metadata": {},
   "outputs": [
    {
     "data": {
      "text/plain": [
       "(754219, 13)"
      ]
     },
     "execution_count": 35,
     "metadata": {},
     "output_type": "execute_result"
    }
   ],
   "source": [
    "data3.shape"
   ]
  },
  {
   "cell_type": "code",
   "execution_count": 36,
   "metadata": {
    "scrolled": true
   },
   "outputs": [
    {
     "data": {
      "image/png": "[encoded data removed]",
      "text/plain": [
       "<Figure size 402.5x360 with 1 Axes>"
      ]
     },
     "metadata": {
      "needs_background": "light"
     },
     "output_type": "display_data"
    }
   ],
   "source": [
    "sns.lmplot(x=\"Longevity\", y=\"predicted\", hue=\"female\", data=data3,fit_reg=False,lowess=True)\n",
    "plt.ylim(.85, 1)\n",
    "plt.show()"
   ]
  },
  {
   "cell_type": "markdown",
   "metadata": {},
   "source": [
    "Going back to the survival rates from the raw data, it does appear this model is missing some elements, including the shrinkage in the gender difference after 80, but also the leveling-off of the survival rate once people get to 90 years or older.  Again, adding more parameters may help.\n",
    "\n",
    "# Drill\n",
    "\n",
    "They say that people who get married live longer than people who don't.  Test that assertion by using marital status as an additional feature in your model.  You'll need to create a feature that differentiates the never married from everyone else- check [the codebook](https://nhis.ipums.org/nhis-action/variables/MARSTAT#codes_section) to get started.  Does marriage make a difference?  Calculate the survival plot and the hazard ratio for being married at any point a lifetime.\n",
    "\n"
   ]
  },
  {
   "cell_type": "markdown",
   "metadata": {},
   "source": [
    "* 00\tNIU\t\n",
    "* 10\tMarried\t\n",
    "* 11\tMarried - Spouse present\n",
    "* 12\tMarried - Spouse not in household\n",
    "* 13\tMarried - Spouse in household unknown\n",
    "* 20\tWidowed\n",
    "* 30\tDivorced\n",
    "* 40\tSeparated\n",
    "* 50\tNever married\tNever married\n",
    "* 99\tUnknown marital status"
   ]
  },
  {
   "cell_type": "code",
   "execution_count": null,
   "metadata": {},
   "outputs": [],
   "source": [
    "data2.columns"
   ]
  },
  {
   "cell_type": "code",
   "execution_count": null,
   "metadata": {},
   "outputs": [],
   "source": [
    "\n",
    "# Dropping cases where birth year is not known\n",
    "data2 =data[(data[\"BIRTHYR\"]<=2009) & (data[\"BIRTHYR\"].notnull())]\n",
    "\n",
    "# Calculating time-to-event\n",
    "data2[\"Longevity\"]= data2[\"MORTDODY\"] - data2[\"BIRTHYR\"]\n",
    "\n",
    "# Creating a 'status' variable where 1 means dead and 0 means alive as of 2009\n",
    "data2[\"dead\"]=2-data2['MORTSTAT']\n",
    "\n",
    "# For people who were alive as of 2009, calculating their longevity as their age in 2009\n",
    "data2.loc[data2['dead']==0,\"Longevity\"] = 2009 -data2.loc[data2['dead']==0,\"BIRTHYR\"] \n",
    "\n",
    "# Creating a binary variable where 1 = female and 0 = male\n",
    "data2[\"female\"] = (data2[\"SEX\"] == 2).astype(int)\n",
    "\n",
    "#Creating Never_married \n",
    "data2[\"single\"] = np.where(data2['MARSTAT']==50, 1, 0)"
   ]
  },
  {
   "cell_type": "code",
   "execution_count": 40,
   "metadata": {},
   "outputs": [
    {
     "name": "stderr",
     "output_type": "stream",
     "text": [
      "C:\\Users\\catan\\.conda\\envs\\catanEnv\\lib\\site-packages\\ipykernel_launcher.py:2: SettingWithCopyWarning: \n",
      "A value is trying to be set on a copy of a slice from a DataFrame.\n",
      "Try using .loc[row_indexer,col_indexer] = value instead\n",
      "\n",
      "See the caveats in the documentation: http://pandas.pydata.org/pandas-docs/stable/user_guide/indexing.html#returning-a-view-versus-a-copy\n",
      "  \n"
     ]
    }
   ],
   "source": [
    "#Creating Never_married \n",
    "data2[\"Alone\"] = data2['MARSTAT']==50"
   ]
  },
  {
   "cell_type": "code",
   "execution_count": 42,
   "metadata": {
    "scrolled": true
   },
   "outputs": [
    {
     "data": {
      "text/plain": [
       "False    584021\n",
       "True     170198\n",
       "Name: Alone, dtype: int64"
      ]
     },
     "execution_count": 42,
     "metadata": {},
     "output_type": "execute_result"
    }
   ],
   "source": [
    "data2.Alone.value_counts()"
   ]
  },
  {
   "cell_type": "code",
   "execution_count": 44,
   "metadata": {},
   "outputs": [
    {
     "data": {
      "text/html": [
       "<div>\n",
       "<style scoped>\n",
       "    .dataframe tbody tr th:only-of-type {\n",
       "        vertical-align: middle;\n",
       "    }\n",
       "\n",
       "    .dataframe tbody tr th {\n",
       "        vertical-align: top;\n",
       "    }\n",
       "\n",
       "    .dataframe thead th {\n",
       "        text-align: right;\n",
       "    }\n",
       "</style>\n",
       "<table border=\"1\" class=\"dataframe\">\n",
       "  <thead>\n",
       "    <tr style=\"text-align: right;\">\n",
       "      <th></th>\n",
       "      <th>Unnamed: 0</th>\n",
       "      <th>YEAR</th>\n",
       "      <th>NHISPID</th>\n",
       "      <th>AGE</th>\n",
       "      <th>SEX</th>\n",
       "      <th>MARSTAT</th>\n",
       "      <th>BIRTHYR</th>\n",
       "      <th>MORTSTAT</th>\n",
       "      <th>MORTDODY</th>\n",
       "      <th>Longevity</th>\n",
       "      <th>dead</th>\n",
       "      <th>female</th>\n",
       "      <th>Alone</th>\n",
       "      <th>single</th>\n",
       "    </tr>\n",
       "  </thead>\n",
       "  <tbody>\n",
       "    <tr>\n",
       "      <th>829402</th>\n",
       "      <td>3928174</td>\n",
       "      <td>1997</td>\n",
       "      <td>19970003080101</td>\n",
       "      <td>33</td>\n",
       "      <td>2</td>\n",
       "      <td>11</td>\n",
       "      <td>1963.0</td>\n",
       "      <td>2.0</td>\n",
       "      <td>9999.0</td>\n",
       "      <td>46.0</td>\n",
       "      <td>0.0</td>\n",
       "      <td>1</td>\n",
       "      <td>False</td>\n",
       "      <td>0</td>\n",
       "    </tr>\n",
       "    <tr>\n",
       "      <th>829403</th>\n",
       "      <td>3928175</td>\n",
       "      <td>1997</td>\n",
       "      <td>19970003080102</td>\n",
       "      <td>36</td>\n",
       "      <td>1</td>\n",
       "      <td>11</td>\n",
       "      <td>1960.0</td>\n",
       "      <td>2.0</td>\n",
       "      <td>9999.0</td>\n",
       "      <td>49.0</td>\n",
       "      <td>0.0</td>\n",
       "      <td>0</td>\n",
       "      <td>False</td>\n",
       "      <td>0</td>\n",
       "    </tr>\n",
       "    <tr>\n",
       "      <th>829404</th>\n",
       "      <td>3928178</td>\n",
       "      <td>1997</td>\n",
       "      <td>19970003090101</td>\n",
       "      <td>42</td>\n",
       "      <td>1</td>\n",
       "      <td>11</td>\n",
       "      <td>1954.0</td>\n",
       "      <td>1.0</td>\n",
       "      <td>1999.0</td>\n",
       "      <td>45.0</td>\n",
       "      <td>1.0</td>\n",
       "      <td>0</td>\n",
       "      <td>False</td>\n",
       "      <td>0</td>\n",
       "    </tr>\n",
       "    <tr>\n",
       "      <th>829405</th>\n",
       "      <td>3928179</td>\n",
       "      <td>1997</td>\n",
       "      <td>19970003090102</td>\n",
       "      <td>52</td>\n",
       "      <td>2</td>\n",
       "      <td>11</td>\n",
       "      <td>1944.0</td>\n",
       "      <td>2.0</td>\n",
       "      <td>9999.0</td>\n",
       "      <td>65.0</td>\n",
       "      <td>0.0</td>\n",
       "      <td>1</td>\n",
       "      <td>False</td>\n",
       "      <td>0</td>\n",
       "    </tr>\n",
       "    <tr>\n",
       "      <th>829407</th>\n",
       "      <td>3928182</td>\n",
       "      <td>1997</td>\n",
       "      <td>19970003100101</td>\n",
       "      <td>41</td>\n",
       "      <td>1</td>\n",
       "      <td>11</td>\n",
       "      <td>1955.0</td>\n",
       "      <td>2.0</td>\n",
       "      <td>9999.0</td>\n",
       "      <td>54.0</td>\n",
       "      <td>0.0</td>\n",
       "      <td>0</td>\n",
       "      <td>False</td>\n",
       "      <td>0</td>\n",
       "    </tr>\n",
       "  </tbody>\n",
       "</table>\n",
       "</div>"
      ],
      "text/plain": [
       "        Unnamed: 0  YEAR         NHISPID  AGE  SEX  MARSTAT  BIRTHYR  \\\n",
       "829402     3928174  1997  19970003080101   33    2       11   1963.0   \n",
       "829403     3928175  1997  19970003080102   36    1       11   1960.0   \n",
       "829404     3928178  1997  19970003090101   42    1       11   1954.0   \n",
       "829405     3928179  1997  19970003090102   52    2       11   1944.0   \n",
       "829407     3928182  1997  19970003100101   41    1       11   1955.0   \n",
       "\n",
       "        MORTSTAT  MORTDODY  Longevity  dead  female  Alone  single  \n",
       "829402       2.0    9999.0       46.0   0.0       1  False       0  \n",
       "829403       2.0    9999.0       49.0   0.0       0  False       0  \n",
       "829404       1.0    1999.0       45.0   1.0       0  False       0  \n",
       "829405       2.0    9999.0       65.0   0.0       1  False       0  \n",
       "829407       2.0    9999.0       54.0   0.0       0  False       0  "
      ]
     },
     "execution_count": 44,
     "metadata": {},
     "output_type": "execute_result"
    }
   ],
   "source": [
    "data2.head()"
   ]
  },
  {
   "cell_type": "code",
   "execution_count": 45,
   "metadata": {},
   "outputs": [
    {
     "data": {
      "text/html": [
       "<div>\n",
       "<style scoped>\n",
       "    .dataframe tbody tr th:only-of-type {\n",
       "        vertical-align: middle;\n",
       "    }\n",
       "\n",
       "    .dataframe tbody tr th {\n",
       "        vertical-align: top;\n",
       "    }\n",
       "\n",
       "    .dataframe thead th {\n",
       "        text-align: right;\n",
       "    }\n",
       "</style>\n",
       "<table border=\"1\" class=\"dataframe\">\n",
       "  <thead>\n",
       "    <tr style=\"text-align: right;\">\n",
       "      <th></th>\n",
       "      <th>Surv prob</th>\n",
       "      <th>Surv prob SE</th>\n",
       "      <th>num at risk</th>\n",
       "      <th>num events</th>\n",
       "    </tr>\n",
       "    <tr>\n",
       "      <th>Time</th>\n",
       "      <th></th>\n",
       "      <th></th>\n",
       "      <th></th>\n",
       "      <th></th>\n",
       "    </tr>\n",
       "  </thead>\n",
       "  <tbody>\n",
       "    <tr>\n",
       "      <th>18.0</th>\n",
       "      <td>0.999997</td>\n",
       "      <td>0.000002</td>\n",
       "      <td>754217</td>\n",
       "      <td>2.0</td>\n",
       "    </tr>\n",
       "    <tr>\n",
       "      <th>19.0</th>\n",
       "      <td>0.999981</td>\n",
       "      <td>0.000005</td>\n",
       "      <td>753439</td>\n",
       "      <td>12.0</td>\n",
       "    </tr>\n",
       "    <tr>\n",
       "      <th>20.0</th>\n",
       "      <td>0.999940</td>\n",
       "      <td>0.000009</td>\n",
       "      <td>751911</td>\n",
       "      <td>31.0</td>\n",
       "    </tr>\n",
       "    <tr>\n",
       "      <th>21.0</th>\n",
       "      <td>0.999879</td>\n",
       "      <td>0.000013</td>\n",
       "      <td>749414</td>\n",
       "      <td>46.0</td>\n",
       "    </tr>\n",
       "    <tr>\n",
       "      <th>22.0</th>\n",
       "      <td>0.999825</td>\n",
       "      <td>0.000015</td>\n",
       "      <td>746169</td>\n",
       "      <td>40.0</td>\n",
       "    </tr>\n",
       "  </tbody>\n",
       "</table>\n",
       "</div>"
      ],
      "text/plain": [
       "      Surv prob  Surv prob SE  num at risk  num events\n",
       "Time                                                  \n",
       "18.0   0.999997      0.000002       754217         2.0\n",
       "19.0   0.999981      0.000005       753439        12.0\n",
       "20.0   0.999940      0.000009       751911        31.0\n",
       "21.0   0.999879      0.000013       749414        46.0\n",
       "22.0   0.999825      0.000015       746169        40.0"
      ]
     },
     "execution_count": 45,
     "metadata": {},
     "output_type": "execute_result"
    }
   ],
   "source": [
    "import statsmodels.api as sm\n",
    "import statsmodels.formula.api as smf\n",
    "\n",
    "sf = sm.SurvfuncRight(data2[\"Longevity\"], data2[\"dead\"])\n",
    "sf.summary().head()"
   ]
  },
  {
   "cell_type": "code",
   "execution_count": 46,
   "metadata": {},
   "outputs": [
    {
     "data": {
      "text/plain": [
       "(0.85, 1)"
      ]
     },
     "execution_count": 46,
     "metadata": {},
     "output_type": "execute_result"
    },
    {
     "data": {
      "image/png": "[encoded data removed]",
      "text/plain": [
       "<Figure size 432x288 with 1 Axes>"
      ]
     },
     "metadata": {
      "needs_background": "light"
     },
     "output_type": "display_data"
    }
   ],
   "source": [
    "# Code for this plot modified from the statsmodels documentation at http://www.statsmodels.org/dev/duration.html\n",
    "\n",
    "groups = data2.groupby(\"single\")\n",
    "ax = plt.axes()\n",
    "sexes = [\"single\",\"married\"]\n",
    "\n",
    "# Fitting a survival function for each group\n",
    "for group in groups:\n",
    "    sf = sm.SurvfuncRight(group[1][\"Longevity\"], group[1][\"dead\"])\n",
    "    sf.plot(ax)\n",
    "li = ax.get_lines()\n",
    "plt.figlegend((li[0], li[2]), sexes, \"center right\")\n",
    "ax.set_ylabel(\"Proportion alive\")\n",
    "ax.set_xlabel(\"Age\")\n",
    "ax.set_autoscaley_on(False)\n",
    "ax.set_ylim([.85,1])\n",
    "\n"
   ]
  },
  {
   "cell_type": "markdown",
   "metadata": {},
   "source": [
    "Most people are still alive, but this may be due to extreme right-censoring.  \n",
    "\n",
    "# Cox PH for Single\n",
    "\n",
    "A graph is all very well, but is the difference in longevity for men and women meaningful?  We can test using the Cox PH model."
   ]
  },
  {
   "cell_type": "code",
   "execution_count": 48,
   "metadata": {},
   "outputs": [
    {
     "data": {
      "text/plain": [
       "<bound method PHReg.from_formula of <class 'statsmodels.duration.hazard_regression.PHReg'>>"
      ]
     },
     "execution_count": 48,
     "metadata": {},
     "output_type": "execute_result"
    }
   ],
   "source": [
    "smf.phreg"
   ]
  },
  {
   "cell_type": "code",
   "execution_count": 47,
   "metadata": {},
   "outputs": [
    {
     "data": {
      "text/html": [
       "<table class=\"simpletable\">\n",
       "<tr>\n",
       "        <td>Model:</td>         <td>PH Reg</td>   <td>Sample size:</td> <td>754217</td>\n",
       "</tr>\n",
       "<tr>\n",
       "  <td>Dependent variable:</td> <td>Longevity</td> <td>Num. events:</td>  <td>67383</td>\n",
       "</tr>\n",
       "<tr>\n",
       "         <td>Ties:</td>         <td>Breslow</td>        <td></td>          <td></td>   \n",
       "</tr>\n",
       "</table>\n",
       "<table class=\"simpletable\">\n",
       "<tr>\n",
       "     <td></td>    <th>log HR</th> <th>log HR SE</th>   <th>HR</th>      <th>t</th>     <th>P>|t|</th> <th>[0.025</th> <th>0.975]</th>\n",
       "</tr>\n",
       "<tr>\n",
       "  <th>single</th> <td>0.6709</td>  <td>0.0140</td>   <td>1.9560</td> <td>47.9588</td> <td>0.0000</td> <td>1.9031</td> <td>2.0104</td>\n",
       "</tr>\n",
       "</table>"
      ],
      "text/plain": [
       "<class 'statsmodels.iolib.summary2.Summary'>\n",
       "\"\"\"\n",
       "                      Results: PHReg\n",
       "===========================================================\n",
       "Model:                  PH Reg       Sample size:    754217\n",
       "Dependent variable:     Longevity    Num. events:    67383 \n",
       "Ties:                   Breslow                            \n",
       "-----------------------------------------------------------\n",
       "       log HR log HR SE   HR      t    P>|t|  [0.025 0.975]\n",
       "-----------------------------------------------------------\n",
       "single 0.6709    0.0140 1.9560 47.9588 0.0000 1.9031 2.0104\n",
       "===========================================================\n",
       "Confidence intervals are for the hazard ratios\n",
       "\"\"\""
      ]
     },
     "execution_count": 47,
     "metadata": {},
     "output_type": "execute_result"
    }
   ],
   "source": [
    "mod = smf.phreg(\"Longevity ~ single\", # The model\n",
    "                data2, # The data\n",
    "                status=data2['dead'].values # Whether values are right-censored\n",
    "                ) \n",
    "rslt = mod.fit()\n",
    "rslt.summary()"
   ]
  },
  {
   "cell_type": "markdown",
   "metadata": {},
   "source": [
    "#### It looks like the difference is meaningful.  The convention is to report and interpret the Hazard Ratio (HR) rather than the log HR.  According to the Cox PH, at any given age, single are 1.956 less likely to die than married, with a 95% confidence interval of 1.90 to 2.01.  This difference is statistically significant at $\\alpha$ of .05 (p < .0001).  Our confidence interval is tiny because our sample is so big!\n",
    "\n",
    "Looking from the plot to the model, you may notice that the data tell a slightly different story.  The survival rate discrepancy seems to shrink a bit after age 80.  This suggests that either we should include some additional features in the model to try and account for this discrepancy, or we should use a different modeling technique that doesn't assume that the effects of features are consistent across all values.\n",
    "\n",
    "We can plot the predicted survival rates from the model:"
   ]
  },
  {
   "cell_type": "code",
   "execution_count": 49,
   "metadata": {},
   "outputs": [
    {
     "data": {
      "text/html": [
       "<div>\n",
       "<style scoped>\n",
       "    .dataframe tbody tr th:only-of-type {\n",
       "        vertical-align: middle;\n",
       "    }\n",
       "\n",
       "    .dataframe tbody tr th {\n",
       "        vertical-align: top;\n",
       "    }\n",
       "\n",
       "    .dataframe thead th {\n",
       "        text-align: right;\n",
       "    }\n",
       "</style>\n",
       "<table border=\"1\" class=\"dataframe\">\n",
       "  <thead>\n",
       "    <tr style=\"text-align: right;\">\n",
       "      <th></th>\n",
       "      <th>Unnamed: 0</th>\n",
       "      <th>YEAR</th>\n",
       "      <th>NHISPID</th>\n",
       "      <th>AGE</th>\n",
       "      <th>SEX</th>\n",
       "      <th>MARSTAT</th>\n",
       "      <th>BIRTHYR</th>\n",
       "      <th>MORTSTAT</th>\n",
       "      <th>MORTDODY</th>\n",
       "      <th>Longevity</th>\n",
       "      <th>dead</th>\n",
       "      <th>female</th>\n",
       "      <th>Alone</th>\n",
       "      <th>single</th>\n",
       "      <th>predicted</th>\n",
       "    </tr>\n",
       "  </thead>\n",
       "  <tbody>\n",
       "    <tr>\n",
       "      <th>829402</th>\n",
       "      <td>3928174</td>\n",
       "      <td>1997</td>\n",
       "      <td>19970003080101</td>\n",
       "      <td>33</td>\n",
       "      <td>2</td>\n",
       "      <td>11</td>\n",
       "      <td>1963.0</td>\n",
       "      <td>2.0</td>\n",
       "      <td>9999.0</td>\n",
       "      <td>46.0</td>\n",
       "      <td>0.0</td>\n",
       "      <td>1</td>\n",
       "      <td>False</td>\n",
       "      <td>0</td>\n",
       "      <td>0.994091</td>\n",
       "    </tr>\n",
       "    <tr>\n",
       "      <th>829403</th>\n",
       "      <td>3928175</td>\n",
       "      <td>1997</td>\n",
       "      <td>19970003080102</td>\n",
       "      <td>36</td>\n",
       "      <td>1</td>\n",
       "      <td>11</td>\n",
       "      <td>1960.0</td>\n",
       "      <td>2.0</td>\n",
       "      <td>9999.0</td>\n",
       "      <td>49.0</td>\n",
       "      <td>0.0</td>\n",
       "      <td>0</td>\n",
       "      <td>False</td>\n",
       "      <td>0</td>\n",
       "      <td>0.991455</td>\n",
       "    </tr>\n",
       "    <tr>\n",
       "      <th>829404</th>\n",
       "      <td>3928178</td>\n",
       "      <td>1997</td>\n",
       "      <td>19970003090101</td>\n",
       "      <td>42</td>\n",
       "      <td>1</td>\n",
       "      <td>11</td>\n",
       "      <td>1954.0</td>\n",
       "      <td>1.0</td>\n",
       "      <td>1999.0</td>\n",
       "      <td>45.0</td>\n",
       "      <td>1.0</td>\n",
       "      <td>0</td>\n",
       "      <td>False</td>\n",
       "      <td>0</td>\n",
       "      <td>0.994754</td>\n",
       "    </tr>\n",
       "    <tr>\n",
       "      <th>829405</th>\n",
       "      <td>3928179</td>\n",
       "      <td>1997</td>\n",
       "      <td>19970003090102</td>\n",
       "      <td>52</td>\n",
       "      <td>2</td>\n",
       "      <td>11</td>\n",
       "      <td>1944.0</td>\n",
       "      <td>2.0</td>\n",
       "      <td>9999.0</td>\n",
       "      <td>65.0</td>\n",
       "      <td>0.0</td>\n",
       "      <td>1</td>\n",
       "      <td>False</td>\n",
       "      <td>0</td>\n",
       "      <td>0.948447</td>\n",
       "    </tr>\n",
       "    <tr>\n",
       "      <th>829407</th>\n",
       "      <td>3928182</td>\n",
       "      <td>1997</td>\n",
       "      <td>19970003100101</td>\n",
       "      <td>41</td>\n",
       "      <td>1</td>\n",
       "      <td>11</td>\n",
       "      <td>1955.0</td>\n",
       "      <td>2.0</td>\n",
       "      <td>9999.0</td>\n",
       "      <td>54.0</td>\n",
       "      <td>0.0</td>\n",
       "      <td>0</td>\n",
       "      <td>False</td>\n",
       "      <td>0</td>\n",
       "      <td>0.984089</td>\n",
       "    </tr>\n",
       "  </tbody>\n",
       "</table>\n",
       "</div>"
      ],
      "text/plain": [
       "        Unnamed: 0  YEAR         NHISPID  AGE  SEX  MARSTAT  BIRTHYR  \\\n",
       "829402     3928174  1997  19970003080101   33    2       11   1963.0   \n",
       "829403     3928175  1997  19970003080102   36    1       11   1960.0   \n",
       "829404     3928178  1997  19970003090101   42    1       11   1954.0   \n",
       "829405     3928179  1997  19970003090102   52    2       11   1944.0   \n",
       "829407     3928182  1997  19970003100101   41    1       11   1955.0   \n",
       "\n",
       "        MORTSTAT  MORTDODY  Longevity  dead  female  Alone  single  predicted  \n",
       "829402       2.0    9999.0       46.0   0.0       1  False       0   0.994091  \n",
       "829403       2.0    9999.0       49.0   0.0       0  False       0   0.991455  \n",
       "829404       1.0    1999.0       45.0   1.0       0  False       0   0.994754  \n",
       "829405       2.0    9999.0       65.0   0.0       1  False       0   0.948447  \n",
       "829407       2.0    9999.0       54.0   0.0       0  False       0   0.984089  "
      ]
     },
     "execution_count": 49,
     "metadata": {},
     "output_type": "execute_result"
    }
   ],
   "source": [
    "data3=data2[(data2['Longevity'].notnull()) & (data2['female'].notnull()) \n",
    "            & (data2['dead'].notnull()) & (data2['single'].notnull())]\n",
    "data3[\"predicted\"] = rslt.predict(pred_type='surv').predicted_values\n",
    "\n",
    "data3.head()\n",
    "\n"
   ]
  },
  {
   "cell_type": "code",
   "execution_count": 50,
   "metadata": {},
   "outputs": [
    {
     "data": {
      "image/png": "[encoded data removed]",
      "text/plain": [
       "<Figure size 402.375x360 with 1 Axes>"
      ]
     },
     "metadata": {
      "needs_background": "light"
     },
     "output_type": "display_data"
    }
   ],
   "source": [
    "sns.lmplot(x=\"Longevity\", y=\"predicted\", hue=\"single\", data=data3,fit_reg=False,lowess=True)\n",
    "plt.ylim(.85, 1)\n",
    "plt.show()"
   ]
  },
  {
   "cell_type": "code",
   "execution_count": null,
   "metadata": {},
   "outputs": [],
   "source": []
  },
  {
   "cell_type": "code",
   "execution_count": null,
   "metadata": {},
   "outputs": [],
   "source": []
  }
 ],
 "metadata": {
  "hide_input": false,
  "kernelspec": {
   "display_name": "Python 3",
   "language": "python",
   "name": "python3"
  },
  "language_info": {
   "codemirror_mode": {
    "name": "ipython",
    "version": 3
   },
   "file_extension": ".py",
   "mimetype": "text/x-python",
   "name": "python",
   "nbconvert_exporter": "python",
   "pygments_lexer": "ipython3",
   "version": "3.7.4"
  }
 },
 "nbformat": 4,
 "nbformat_minor": 2
}
